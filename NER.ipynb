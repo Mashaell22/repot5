{
  "nbformat": 4,
  "nbformat_minor": 0,
  "metadata": {
    "colab": {
      "provenance": [],
      "toc_visible": true,
      "include_colab_link": true
    },
    "kernelspec": {
      "name": "python3",
      "display_name": "Python 3"
    },
    "language_info": {
      "name": "python"
    }
  },
  "cells": [
    {
      "cell_type": "markdown",
      "metadata": {
        "id": "view-in-github",
        "colab_type": "text"
      },
      "source": [
        "<a href=\"https://colab.research.google.com/github/Mashaell22/repot5/blob/main/NER.ipynb\" target=\"_parent\"><img src=\"https://colab.research.google.com/assets/colab-badge.svg\" alt=\"Open In Colab\"/></a>"
      ]
    },
    {
      "cell_type": "markdown",
      "source": [
        "#Named Entity Recognition (NER)"
      ],
      "metadata": {
        "id": "ub0akNa5FwpT"
      }
    },
    {
      "cell_type": "markdown",
      "source": [
        "Using spaCy for NER\n",
        "1. **Named Entities**: Entities that refer to specific objects or people, e.g., \"Barack Obama\", \"Google\", \"New York\".\n",
        "2. **Categories**: Common categories include PERSON, ORGANIZATION, LOCATION, DATE, TIME, and others.\n",
        "3. **NER Models**: NER models can be based on rule-based systems, machine learning, or deep learning techniques."
      ],
      "metadata": {
        "id": "BTxQweeGF1xs"
      }
    },
    {
      "cell_type": "markdown",
      "source": [
        "## Example: Using spaCy for NER\n"
      ],
      "metadata": {
        "id": "gddIb9tGF-GY"
      }
    },
    {
      "cell_type": "code",
      "source": [
        "import spacy\n"
      ],
      "metadata": {
        "id": "gbT1WYlOGCm6"
      },
      "execution_count": 1,
      "outputs": []
    },
    {
      "cell_type": "markdown",
      "source": [
        "# Load the spaCy model\n"
      ],
      "metadata": {
        "id": "5xyt_o8TGEI6"
      }
    },
    {
      "cell_type": "code",
      "source": [
        "nlp = spacy.load(\"en_core_web_sm\")"
      ],
      "metadata": {
        "id": "StatqGVeGCGc"
      },
      "execution_count": 2,
      "outputs": []
    },
    {
      "cell_type": "code",
      "execution_count": 3,
      "metadata": {
        "id": "ccjuQWuyC4Sm",
        "outputId": "7aae81e9-ad97-4d86-eb2c-598a432d763f",
        "colab": {
          "base_uri": "https://localhost:8080/"
        }
      },
      "outputs": [
        {
          "output_type": "stream",
          "name": "stdout",
          "text": [
            "Apple ORG\n",
            "U.K. GPE\n",
            "$1 billion MONEY\n",
            "Tim Cook PERSON\n",
            "Apple ORG\n"
          ]
        }
      ],
      "source": [
        "# Example text\n",
        "text = \"Apple is looking at buying U.K. startup for $1 billion. Tim Cook is the CEO of Apple.\"\n",
        "\n",
        "# Process the text with spaCy\n",
        "doc = nlp(text)\n",
        "\n",
        "# Extract named entities\n",
        "for ent in doc.ents:\n",
        "    print(ent.text, ent.label_)\n"
      ]
    },
    {
      "cell_type": "code",
      "source": [
        "text = \"Elon Musk is the CEO of Tesla and SpaceX. He was born in Pretoria, South Africa.\"\n",
        "\n",
        "# Process the text with spaCy\n",
        "doc = nlp(text)\n",
        "\n",
        "# Extract named entities\n",
        "for ent in doc.ents:\n",
        "    print(ent.text, ent.label_)\n"
      ],
      "metadata": {
        "id": "pxBFRoyvGK0F",
        "outputId": "a8c0a8af-af74-4fb7-a211-1f646f927d57",
        "colab": {
          "base_uri": "https://localhost:8080/"
        }
      },
      "execution_count": 4,
      "outputs": [
        {
          "output_type": "stream",
          "name": "stdout",
          "text": [
            "Elon Musk PERSON\n",
            "Tesla ORG\n",
            "Pretoria GPE\n",
            "South Africa GPE\n"
          ]
        }
      ]
    },
    {
      "cell_type": "code",
      "source": [
        "from spacy.training import Example\n"
      ],
      "metadata": {
        "id": "u1yhF72hGQlq"
      },
      "execution_count": 5,
      "outputs": []
    },
    {
      "cell_type": "markdown",
      "source": [
        "# Custom NER training data\n"
      ],
      "metadata": {
        "id": "TkBoL-ouGPeK"
      }
    },
    {
      "cell_type": "markdown",
      "source": [
        "# Custom NER training data\n"
      ],
      "metadata": {
        "id": "NBiBP2dgGRug"
      }
    },
    {
      "cell_type": "code",
      "source": [
        "TRAIN_DATA = [\n",
        "    (\"Tesla is an electric car manufacturer.\", {\"entities\": [(0, 5, \"COMPANY\")]}),\n",
        "    (\"SpaceX is a space exploration company.\", {\"entities\": [(0, 6, \"COMPANY\")]}),\n",
        "]"
      ],
      "metadata": {
        "id": "ksxHHDFUGUk7"
      },
      "execution_count": 6,
      "outputs": []
    },
    {
      "cell_type": "code",
      "source": [
        "# Load a blank model\n",
        "nlp = spacy.blank(\"en\")"
      ],
      "metadata": {
        "id": "2WK3RVIfGWzo"
      },
      "execution_count": 7,
      "outputs": []
    },
    {
      "cell_type": "code",
      "source": [
        "# Create a new NER component and add it to the pipeline\n",
        "ner = nlp.add_pipe(\"ner\")"
      ],
      "metadata": {
        "id": "HqDwwvJLGXMP"
      },
      "execution_count": 8,
      "outputs": []
    },
    {
      "cell_type": "code",
      "source": [
        "# Add new label to the NER component\n",
        "ner.add_label(\"COMPANY\")"
      ],
      "metadata": {
        "id": "iZ7O-kY2GZK7",
        "outputId": "0fd769f7-869b-47d6-f847-ab11decd09e1",
        "colab": {
          "base_uri": "https://localhost:8080/"
        }
      },
      "execution_count": 9,
      "outputs": [
        {
          "output_type": "execute_result",
          "data": {
            "text/plain": [
              "1"
            ]
          },
          "metadata": {},
          "execution_count": 9
        }
      ]
    },
    {
      "cell_type": "markdown",
      "source": [
        "# Training the NER model\n"
      ],
      "metadata": {
        "id": "iPOwx0KyGbrB"
      }
    },
    {
      "cell_type": "code",
      "source": [
        "optimizer = nlp.begin_training()\n",
        "for epoch in range(10):\n",
        "    for text, annotations in TRAIN_DATA:\n",
        "        doc = nlp.make_doc(text)\n",
        "        example = Example.from_dict(doc, annotations)\n",
        "        nlp.update([example], drop=0.5, losses={})"
      ],
      "metadata": {
        "id": "5A6c5Q8tGczm"
      },
      "execution_count": 18,
      "outputs": []
    },
    {
      "cell_type": "code",
      "source": [
        "for epoch in range(10):\n",
        "    losses = {}\n",
        "    for text, annotations in TRAIN_DATA:\n",
        "        doc = nlp.make_doc(text)\n",
        "        example = Example.from_dict(doc, annotations)\n",
        "        nlp.update([example], drop=0.5, losses=losses)\n",
        "    print(f\"Losses at epoch {epoch}: {losses}\")\n"
      ],
      "metadata": {
        "id": "J0644oqu5VEe",
        "outputId": "f90f4e98-d9d6-4d35-b493-129449abbb47",
        "colab": {
          "base_uri": "https://localhost:8080/"
        }
      },
      "execution_count": 20,
      "outputs": [
        {
          "output_type": "stream",
          "name": "stdout",
          "text": [
            "Losses at epoch 0: {'ner': 2.8823755895136856}\n",
            "Losses at epoch 1: {'ner': 3.7493139426223934}\n",
            "Losses at epoch 2: {'ner': 2.9376012455904856}\n",
            "Losses at epoch 3: {'ner': 3.295038189855404}\n",
            "Losses at epoch 4: {'ner': 2.440101692220196}\n",
            "Losses at epoch 5: {'ner': 2.9682473325010506}\n",
            "Losses at epoch 6: {'ner': 1.8895610860199668}\n",
            "Losses at epoch 7: {'ner': 2.345189234765712}\n",
            "Losses at epoch 8: {'ner': 1.2750313667129376}\n",
            "Losses at epoch 9: {'ner': 1.6188084534405789}\n"
          ]
        }
      ]
    },
    {
      "cell_type": "markdown",
      "source": [
        "# TODO :: Test the trained model\n"
      ],
      "metadata": {
        "id": "_5_2cJLhGdlL"
      }
    },
    {
      "cell_type": "code",
      "source": [
        "\n",
        "test_text = \"Tesla and SpaceX are revolutionizing the automotive and space industries.\"\n",
        "\n",
        "doc = nlp(test_text)\n",
        "\n",
        "for ent in doc.ents:\n",
        "    print(ent.text, ent.label_)\n"
      ],
      "metadata": {
        "id": "yIIzOjwl4tNs",
        "outputId": "6e65eb09-22cd-4c64-d993-36a0a88b1ae0",
        "colab": {
          "base_uri": "https://localhost:8080/"
        }
      },
      "execution_count": 23,
      "outputs": [
        {
          "output_type": "stream",
          "name": "stdout",
          "text": [
            "Tesla COMPANY\n"
          ]
        }
      ]
    },
    {
      "cell_type": "code",
      "source": [
        "test_text = \"Tesla and SpaceX are leading technology companies.\"\n"
      ],
      "metadata": {
        "id": "0rOKo9-O4DxH"
      },
      "execution_count": 12,
      "outputs": []
    }
  ]
}