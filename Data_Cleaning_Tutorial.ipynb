{
  "nbformat": 4,
  "nbformat_minor": 0,
  "metadata": {
    "colab": {
      "provenance": [],
      "toc_visible": true,
      "include_colab_link": true
    },
    "kernelspec": {
      "name": "python3",
      "display_name": "Python 3"
    },
    "language_info": {
      "name": "python"
    }
  },
  "cells": [
    {
      "cell_type": "markdown",
      "metadata": {
        "id": "view-in-github",
        "colab_type": "text"
      },
      "source": [
        "<a href=\"https://colab.research.google.com/github/Mashaell22/repot5/blob/main/Data_Cleaning_Tutorial.ipynb\" target=\"_parent\"><img src=\"https://colab.research.google.com/assets/colab-badge.svg\" alt=\"Open In Colab\"/></a>"
      ]
    },
    {
      "cell_type": "code",
      "source": [
        "from sklearn.metrics import mean_absolute_error"
      ],
      "metadata": {
        "id": "Zz1aclkWCHdt"
      },
      "execution_count": 5,
      "outputs": []
    },
    {
      "cell_type": "code",
      "source": [
        "from sklearn.impute import SimpleImputer"
      ],
      "metadata": {
        "id": "5bXDHGfCCL8y"
      },
      "execution_count": 6,
      "outputs": []
    },
    {
      "cell_type": "code",
      "source": [
        "from sklearn.ensemble import RandomForestClassifier"
      ],
      "metadata": {
        "id": "K_0kzWAmCDgD"
      },
      "execution_count": 4,
      "outputs": []
    },
    {
      "cell_type": "code",
      "source": [
        "from sklearn.preprocessing import MinMaxScaler"
      ],
      "metadata": {
        "id": "W4ifE5DmHuwL"
      },
      "execution_count": 32,
      "outputs": []
    },
    {
      "cell_type": "code",
      "source": [
        "from sklearn.model_selection import train_test_split"
      ],
      "metadata": {
        "id": "EjCulJCkCCUG"
      },
      "execution_count": 3,
      "outputs": []
    },
    {
      "cell_type": "code",
      "execution_count": 1,
      "metadata": {
        "id": "K1F-oY4BI45P"
      },
      "outputs": [],
      "source": [
        "import pandas as pd\n",
        "import numpy as np"
      ]
    },
    {
      "cell_type": "markdown",
      "source": [
        "# Loading the dataset"
      ],
      "metadata": {
        "id": "BzrLQRRGTdu1"
      }
    },
    {
      "cell_type": "code",
      "source": [
        "df=pd.read_csv('Titanic-Dataset.csv')"
      ],
      "metadata": {
        "id": "bc3UPU7AKzKG"
      },
      "execution_count": 2,
      "outputs": []
    },
    {
      "cell_type": "markdown",
      "source": [
        "# Handling Null Values"
      ],
      "metadata": {
        "id": "0OFnt7E-Tkgb"
      }
    },
    {
      "cell_type": "code",
      "source": [
        "df = \"Titanic-Dataset.csv\"\n",
        "data = pd.read_csv(df)"
      ],
      "metadata": {
        "id": "p5TAHkOKDT4C"
      },
      "execution_count": 16,
      "outputs": []
    },
    {
      "cell_type": "code",
      "source": [
        "# Check for null values (1 line)\n",
        "null_values = data.isnull().sum()\n",
        "print(null_values)\n"
      ],
      "metadata": {
        "id": "tCRLPInPK3ro",
        "colab": {
          "base_uri": "https://localhost:8080/"
        },
        "outputId": "cb68c899-39dd-4a02-da2b-291ca42cde7e"
      },
      "execution_count": 38,
      "outputs": [
        {
          "output_type": "stream",
          "name": "stdout",
          "text": [
            "PassengerId     0\n",
            "Survived        0\n",
            "Pclass          0\n",
            "Name            0\n",
            "Age            18\n",
            "SibSp           0\n",
            "Parch           0\n",
            "Ticket          0\n",
            "Fare            0\n",
            "Cabin           0\n",
            "Embarked_C      0\n",
            "Embarked_Q      0\n",
            "Embarked_S      0\n",
            "Sex_female      0\n",
            "Sex_male        0\n",
            "dtype: int64\n"
          ]
        }
      ]
    },
    {
      "cell_type": "code",
      "source": [
        "# Fill null values for 'Embarked' with the mode(1 line)\n",
        "\n",
        "data['Embarked'].fillna(data['Embarked'].mode()[0], inplace=True)"
      ],
      "metadata": {
        "id": "L5WrMe85DswA"
      },
      "execution_count": 18,
      "outputs": []
    },
    {
      "cell_type": "code",
      "source": [
        "# Drop rows with null values in 'Cabin' (or alternatively, you can fill it with a placeholder) (1 line)\n",
        "data.dropna(subset=['Cabin'], inplace=True)\n"
      ],
      "metadata": {
        "id": "FpO8lzqbD0Ai"
      },
      "execution_count": 19,
      "outputs": []
    },
    {
      "cell_type": "code",
      "source": [
        "null_values_after = data.isnull().sum()\n",
        "print(null_values_after)"
      ],
      "metadata": {
        "colab": {
          "base_uri": "https://localhost:8080/"
        },
        "id": "vLzEXctmG6jn",
        "outputId": "e23f890d-ab2c-4866-969d-6143d6fead8e"
      },
      "execution_count": 29,
      "outputs": [
        {
          "output_type": "stream",
          "name": "stdout",
          "text": [
            "PassengerId     0\n",
            "Survived        0\n",
            "Pclass          0\n",
            "Name            0\n",
            "Sex             0\n",
            "Age            18\n",
            "SibSp           0\n",
            "Parch           0\n",
            "Ticket          0\n",
            "Fare            0\n",
            "Cabin           0\n",
            "Embarked        0\n",
            "dtype: int64\n"
          ]
        }
      ]
    },
    {
      "cell_type": "markdown",
      "source": [
        "# Handling Duplicates"
      ],
      "metadata": {
        "id": "ymFhv83FV80H"
      }
    },
    {
      "cell_type": "code",
      "source": [
        "# Drop duplicates if any (1 line)\n",
        "data.drop_duplicates(inplace=True)\n"
      ],
      "metadata": {
        "id": "UDOxtpaCFWZM"
      },
      "execution_count": 23,
      "outputs": []
    },
    {
      "cell_type": "code",
      "source": [
        "# Check for duplicates (1 line)\n",
        "duplicate_rows = data.duplicated().sum()\n",
        "print(f'No of rows: {duplicate_rows}')\n",
        "\n",
        "\n"
      ],
      "metadata": {
        "colab": {
          "base_uri": "https://localhost:8080/"
        },
        "id": "HzmNbIDuLmEw",
        "outputId": "46572e7b-d484-4f3b-f23c-1f5c575eb2bb"
      },
      "execution_count": 24,
      "outputs": [
        {
          "output_type": "stream",
          "name": "stdout",
          "text": [
            "No of rows: 0\n"
          ]
        }
      ]
    },
    {
      "cell_type": "markdown",
      "source": [
        "# Handling Outliers"
      ],
      "metadata": {
        "id": "RkPW85MbV_8v"
      }
    },
    {
      "cell_type": "code",
      "source": [],
      "metadata": {
        "id": "T1WtF85dGOXk"
      },
      "execution_count": 27,
      "outputs": []
    },
    {
      "cell_type": "code",
      "source": [
        "import numpy as np\n",
        "\n",
        "# Function to remove outliers using the IQR method\n",
        "def remove_outliers(df, column):\n",
        "    Q1 = df[column].quantile(0.25)\n",
        "    Q3 = df[column].quantile(0.75)\n",
        "    IQR = Q3 - Q1\n",
        "    lower_bound = Q1 - 1.5 * IQR\n",
        "    upper_bound = Q3 + 1.5 * IQR\n",
        "    return df[(df[column] >= lower_bound) & (df[column] <= upper_bound)]\n",
        "\n",
        "# Remove outliers from 'Fare' using the remove_outilers function (1 line)\n",
        "df = remove_outliers(data, 'Fare')\n",
        "\n",
        "print(data.describe())"
      ],
      "metadata": {
        "id": "NsffaZ2DL06B",
        "colab": {
          "base_uri": "https://localhost:8080/"
        },
        "outputId": "2c7ce339-fb8b-45ff-f881-ec5d5ae5e666"
      },
      "execution_count": 40,
      "outputs": [
        {
          "output_type": "stream",
          "name": "stdout",
          "text": [
            "       PassengerId    Survived      Pclass         Age       SibSp  \\\n",
            "count   891.000000  891.000000  891.000000  714.000000  891.000000   \n",
            "mean    446.000000    0.383838    2.308642   29.699118    0.523008   \n",
            "std     257.353842    0.486592    0.836071   14.526497    1.102743   \n",
            "min       1.000000    0.000000    1.000000    0.420000    0.000000   \n",
            "25%     223.500000    0.000000    2.000000   20.125000    0.000000   \n",
            "50%     446.000000    0.000000    3.000000   28.000000    0.000000   \n",
            "75%     668.500000    1.000000    3.000000   38.000000    1.000000   \n",
            "max     891.000000    1.000000    3.000000   80.000000    8.000000   \n",
            "\n",
            "            Parch        Fare  \n",
            "count  891.000000  891.000000  \n",
            "mean     0.381594   32.204208  \n",
            "std      0.806057   49.693429  \n",
            "min      0.000000    0.000000  \n",
            "25%      0.000000    7.910400  \n",
            "50%      0.000000   14.454200  \n",
            "75%      0.000000   31.000000  \n",
            "max      6.000000  512.329200  \n"
          ]
        }
      ]
    },
    {
      "cell_type": "markdown",
      "source": [
        "# Scaling and Normalization"
      ],
      "metadata": {
        "id": "kOTEDjprUiwc"
      }
    },
    {
      "cell_type": "code",
      "source": [
        "from sklearn.preprocessing import StandardScaler, MinMaxScaler\n",
        "\n",
        "# Standard scaling for 'Fare' (2 lines)\n",
        "scaler = StandardScaler()\n",
        "data['Fare'] = scaler.fit_transform(data[['Fare']])\n",
        "\n"
      ],
      "metadata": {
        "id": "k3AaqNXcTaDR"
      },
      "execution_count": 31,
      "outputs": []
    },
    {
      "cell_type": "code",
      "source": [
        "# Min-Max scaling for 'Age' (2 lines)\n",
        "scaler = MinMaxScaler()\n",
        "data['Age'] = scaler.fit_transform(data[['Age']])\n"
      ],
      "metadata": {
        "id": "CvsKE_pQHfc_"
      },
      "execution_count": 33,
      "outputs": []
    },
    {
      "cell_type": "code",
      "source": [
        "print(data[['Age', 'Fare']].describe())"
      ],
      "metadata": {
        "colab": {
          "base_uri": "https://localhost:8080/"
        },
        "id": "2lLe4ealH457",
        "outputId": "0b87bdd9-4b43-41fd-eb6b-51920114b2e9"
      },
      "execution_count": 34,
      "outputs": [
        {
          "output_type": "stream",
          "name": "stdout",
          "text": [
            "              Age          Fare\n",
            "count  168.000000  1.860000e+02\n",
            "mean     0.448526  4.297638e-17\n",
            "std      0.200458  1.002699e+00\n",
            "min      0.000000 -1.532713e+00\n",
            "25%      0.304502 -8.208058e-01\n",
            "50%      0.443601 -1.388993e-01\n",
            "75%      0.595346  5.797208e-01\n",
            "max      1.000000  2.537336e+00\n"
          ]
        }
      ]
    },
    {
      "cell_type": "markdown",
      "source": [
        "# Encoding Categorical Variables"
      ],
      "metadata": {
        "id": "ETtUvmP3Uz1p"
      }
    },
    {
      "cell_type": "code",
      "source": [
        "# One-hot encoding for 'Embarked' and 'Sex' (1 line)\n",
        "data = pd.get_dummies(data, columns=['Embarked', 'Sex'])"
      ],
      "metadata": {
        "id": "OxjK9FbhU4oq"
      },
      "execution_count": 35,
      "outputs": []
    },
    {
      "cell_type": "code",
      "source": [
        "\n",
        "df = \"Titanic-Dataset.csv\"\n",
        "data = pd.read_csv(df)\n",
        "\n",
        "\n",
        "print(data.columns)\n",
        "\n",
        "\n",
        "if 'Name' in data.columns:\n",
        "    names_starting_with_T =data[data['Name'].str.startswith('T')]\n",
        "\n",
        "    print(names_starting_with_T[['Name']])\n",
        "else:\n",
        "    print(\"The 'Name' column is not found in the data.\")"
      ],
      "metadata": {
        "colab": {
          "base_uri": "https://localhost:8080/"
        },
        "id": "royBYfg8KHtE",
        "outputId": "c19e4792-ad9a-49fb-caa7-d3c20e749c04"
      },
      "execution_count": 42,
      "outputs": [
        {
          "output_type": "stream",
          "name": "stdout",
          "text": [
            "Index(['PassengerId', 'Survived', 'Pclass', 'Name', 'Sex', 'Age', 'SibSp',\n",
            "       'Parch', 'Ticket', 'Fare', 'Cabin', 'Embarked'],\n",
            "      dtype='object')\n",
            "                                                  Name\n",
            "29                                 Todoroff, Mr. Lalio\n",
            "41   Turpin, Mrs. William John Robert (Dorothy Ann ...\n",
            "117                    Turpin, Mr. William John Robert\n",
            "189                                Turcin, Mr. Stjepan\n",
            "255            Touma, Mrs. Darwis (Hanne Youssef Razi)\n",
            "256                     Thorne, Mrs. Gertrude Maybelle\n",
            "262                                  Taussig, Mr. Emil\n",
            "271                       Tornquist, Mr. William Henry\n",
            "382                                 Tikkanen, Mr. Juho\n",
            "399                   Trout, Mrs. William H (Jessie L)\n",
            "431  Thorneycroft, Mrs. Percival (Florence Kate White)\n",
            "458                                Toomey, Miss. Ellen\n",
            "483                             Turkula, Mrs. (Hedwig)\n",
            "531                                  Toufik, Mr. Nakli\n",
            "550                        Thayer, Mr. John Borland Jr\n",
            "558             Taussig, Mrs. Emil (Tillie Mandelbaum)\n",
            "581  Thayer, Mrs. John Borland (Marian Longstreth M...\n",
            "585                                Taussig, Miss. Ruth\n",
            "603                          Torber, Mr. Ernst William\n",
            "639                         Thorneycroft, Mr. Percival\n",
            "669  Taylor, Mrs. Elmer Zebley (Juliet Cummins Wright)\n",
            "677                            Turja, Miss. Anna Sofia\n",
            "698                           Thayer, Mr. John Borland\n",
            "712                           Taylor, Mr. Elmer Zebley\n",
            "717                Troutt, Miss. Edwina Celia \"Winnie\"\n",
            "734                       Troupiansky, Mr. Moses Aaron\n",
            "758                       Theobald, Mr. Thomas Leonard\n",
            "776                                   Tobin, Mr. Roger\n",
            "803                    Thomas, Master. Assad Alexander\n",
            "814                         Tomlin, Mr. Ernest Portage\n"
          ]
        }
      ]
    },
    {
      "cell_type": "code",
      "source": [
        "print(data.head())"
      ],
      "metadata": {
        "colab": {
          "base_uri": "https://localhost:8080/"
        },
        "id": "6i77Vcj7IRCN",
        "outputId": "21831bba-f582-4426-d5ab-21fcbd8c8703"
      },
      "execution_count": 36,
      "outputs": [
        {
          "output_type": "stream",
          "name": "stdout",
          "text": [
            "    PassengerId  Survived  Pclass  \\\n",
            "1             2         1       1   \n",
            "3             4         1       1   \n",
            "6             7         0       1   \n",
            "10           11         1       3   \n",
            "11           12         1       1   \n",
            "\n",
            "                                                 Name       Age  SibSp  Parch  \\\n",
            "1   Cumings, Mrs. John Bradley (Florence Briggs Th...  0.468892      1      0   \n",
            "3        Futrelle, Mrs. Jacques Heath (Lily May Peel)  0.430956      1      0   \n",
            "6                             McCarthy, Mr. Timothy J  0.671219      0      0   \n",
            "10                    Sandstrom, Miss. Marguerite Rut  0.038948      1      1   \n",
            "11                           Bonnell, Miss. Elizabeth  0.721801      0      0   \n",
            "\n",
            "      Ticket      Fare Cabin  Embarked_C  Embarked_Q  Embarked_S  Sex_female  \\\n",
            "1   PC 17599  0.357824   C85        True       False       False        True   \n",
            "3     113803 -0.124424  C123       False       False        True        True   \n",
            "6      17463 -0.157244   E46       False       False        True       False   \n",
            "10   PP 9549 -1.089805    G6       False       False        True        True   \n",
            "11    113783 -0.828569  C103       False       False        True        True   \n",
            "\n",
            "    Sex_male  \n",
            "1      False  \n",
            "3      False  \n",
            "6       True  \n",
            "10     False  \n",
            "11     False  \n"
          ]
        }
      ]
    }
  ]
}