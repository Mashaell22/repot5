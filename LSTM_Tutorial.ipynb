{
  "nbformat": 4,
  "nbformat_minor": 0,
  "metadata": {
    "colab": {
      "provenance": [],
      "include_colab_link": true
    },
    "kernelspec": {
      "name": "python3",
      "display_name": "Python 3"
    },
    "language_info": {
      "name": "python"
    }
  },
  "cells": [
    {
      "cell_type": "markdown",
      "metadata": {
        "id": "view-in-github",
        "colab_type": "text"
      },
      "source": [
        "<a href=\"https://colab.research.google.com/github/Mashaell22/repot5/blob/main/LSTM_Tutorial.ipynb\" target=\"_parent\"><img src=\"https://colab.research.google.com/assets/colab-badge.svg\" alt=\"Open In Colab\"/></a>"
      ]
    },
    {
      "cell_type": "markdown",
      "source": [
        "# **LSTM tutorial**"
      ],
      "metadata": {
        "id": "DeDMU8rGJtM7"
      }
    },
    {
      "cell_type": "markdown",
      "source": [
        "## Import libraries"
      ],
      "metadata": {
        "id": "73pucHkDJoyN"
      }
    },
    {
      "cell_type": "code",
      "execution_count": 31,
      "metadata": {
        "id": "W3AjCzdQJmSK"
      },
      "outputs": [],
      "source": [
        "import numpy as np\n",
        "import matplotlib.pyplot as plt\n",
        "import pandas as pd\n",
        "import tensorflow as tf\n",
        "from tensorflow.keras.models import Sequential\n",
        "from tensorflow.keras.layers import Dense\n",
        "from tensorflow.keras.layers import LSTM\n",
        "from sklearn.preprocessing import MinMaxScaler\n",
        "from sklearn.metrics import mean_squared_error"
      ]
    },
    {
      "cell_type": "markdown",
      "source": [
        "### Random seed"
      ],
      "metadata": {
        "id": "sea3UQEKKGR5"
      }
    },
    {
      "cell_type": "code",
      "source": [
        "# fix random seed for reproducibility\n",
        "tf.random.set_seed(7)\n"
      ],
      "metadata": {
        "id": "o51blbtuKC-d"
      },
      "execution_count": 32,
      "outputs": []
    },
    {
      "cell_type": "markdown",
      "source": [
        "## load the dataset"
      ],
      "metadata": {
        "id": "91J8oMpJKYkO"
      }
    },
    {
      "cell_type": "code",
      "source": [
        "dataframe = pd.read_csv('airline-passengers.csv', usecols=[1], engine='python')\n",
        "dataset = dataframe.values\n",
        "dataset = dataset.astype('float32')\n"
      ],
      "metadata": {
        "id": "Cyx1SwgJJ8Y9"
      },
      "execution_count": 33,
      "outputs": []
    },
    {
      "cell_type": "markdown",
      "source": [
        "LSTMs are sensitive to the scale of the input data, specifically when the sigmoid (default) or tanh activation functions are used. It can be a good practice to rescale the data to the range of 0-to-1, also called normalizing. You can easily normalize the dataset using the MinMaxScaler preprocessing class from the scikit-learn library.\n",
        "\n"
      ],
      "metadata": {
        "id": "G4otatp6KiSa"
      }
    },
    {
      "cell_type": "markdown",
      "source": [
        "## Normalize the dataset"
      ],
      "metadata": {
        "id": "i7yyKGkVKi88"
      }
    },
    {
      "cell_type": "code",
      "source": [
        "scaler = MinMaxScaler(feature_range=(0, 1))\n",
        "dataset = scaler.fit_transform(dataset)"
      ],
      "metadata": {
        "id": "dacoPvqbKdpP"
      },
      "execution_count": 34,
      "outputs": []
    },
    {
      "cell_type": "markdown",
      "source": [
        "## split into train and test sets"
      ],
      "metadata": {
        "id": "GV-4d-zxKvJI"
      }
    },
    {
      "cell_type": "code",
      "source": [
        "train_size = int(len(dataset) * 0.67)\n",
        "test_size = len(dataset) - train_size\n",
        "train, test = dataset[0:train_size,:], dataset[train_size:len(dataset),:]\n",
        "print(len(train), len(test))"
      ],
      "metadata": {
        "colab": {
          "base_uri": "https://localhost:8080/"
        },
        "id": "4K7bNBFiKr_j",
        "outputId": "beab97a3-bcab-4566-dbcc-e90fac049403"
      },
      "execution_count": 35,
      "outputs": [
        {
          "output_type": "stream",
          "name": "stdout",
          "text": [
            "96 48\n"
          ]
        }
      ]
    },
    {
      "cell_type": "markdown",
      "source": [
        "## convert an array of values into a dataset matrix"
      ],
      "metadata": {
        "id": "7JvMj_ZBLGic"
      }
    },
    {
      "cell_type": "code",
      "source": [
        "def create_dataset(dataset, look_back=1):\n",
        "    dataX, dataY = [], []\n",
        "    for i in range(len(dataset)-look_back-1):\n",
        "        a = dataset[i:(i+look_back), 0]  # Indent this line\n",
        "        dataX.append(a)\n",
        "        dataY.append(dataset[i + look_back, 0])\n",
        "    return np.array(dataX), np.array(dataY)"
      ],
      "metadata": {
        "id": "nmJ0XJRqKy-a"
      },
      "execution_count": 36,
      "outputs": []
    },
    {
      "cell_type": "markdown",
      "source": [
        "## function to prepare the train and test datasets for modeling."
      ],
      "metadata": {
        "id": "u1ICsW2uLYhY"
      }
    },
    {
      "cell_type": "code",
      "source": [
        "# reshape into X=t and Y=t+1\n",
        "look_back = 1\n",
        "trainX, trainY = create_dataset(train, look_back)\n",
        "testX, testY = create_dataset(test, look_back)\n"
      ],
      "metadata": {
        "id": "YlKZoj7JLJNa"
      },
      "execution_count": 37,
      "outputs": []
    },
    {
      "cell_type": "code",
      "source": [
        "# reshape input to be [samples, time steps, features]\n",
        "trainX = np.reshape(trainX, (trainX.shape[0], 1, trainX.shape[1]))\n",
        "testX = np.reshape(testX, (testX.shape[0], 1, testX.shape[1]))\n"
      ],
      "metadata": {
        "id": "5tgqspiTLgIl"
      },
      "execution_count": 38,
      "outputs": []
    },
    {
      "cell_type": "markdown",
      "source": [
        "## Fit the LSTM"
      ],
      "metadata": {
        "id": "Enlx1TQhLcp5"
      }
    },
    {
      "cell_type": "code",
      "source": [
        "model = Sequential()\n",
        "model.add(LSTM(4, input_shape=(1, look_back)))\n",
        "model.add(Dense(1))\n",
        "model.compile(loss='mean_squared_error', optimizer='adam')\n",
        "model.fit(trainX, trainY, epochs=100, batch_size=1, verbose=2)\n"
      ],
      "metadata": {
        "colab": {
          "base_uri": "https://localhost:8080/"
        },
        "id": "tKTnFm3lLcIj",
        "outputId": "2c5e6dc6-0673-424c-e3a3-d2b946d06aca"
      },
      "execution_count": 39,
      "outputs": [
        {
          "output_type": "stream",
          "name": "stderr",
          "text": [
            "/usr/local/lib/python3.10/dist-packages/keras/src/layers/rnn/rnn.py:204: UserWarning: Do not pass an `input_shape`/`input_dim` argument to a layer. When using Sequential models, prefer using an `Input(shape)` object as the first layer in the model instead.\n",
            "  super().__init__(**kwargs)\n"
          ]
        },
        {
          "output_type": "stream",
          "name": "stdout",
          "text": [
            "Epoch 1/100\n",
            "94/94 - 3s - 27ms/step - loss: 0.0330\n",
            "Epoch 2/100\n",
            "94/94 - 0s - 3ms/step - loss: 0.0157\n",
            "Epoch 3/100\n",
            "94/94 - 0s - 3ms/step - loss: 0.0122\n",
            "Epoch 4/100\n",
            "94/94 - 0s - 4ms/step - loss: 0.0111\n",
            "Epoch 5/100\n",
            "94/94 - 0s - 2ms/step - loss: 0.0101\n",
            "Epoch 6/100\n",
            "94/94 - 0s - 3ms/step - loss: 0.0092\n",
            "Epoch 7/100\n",
            "94/94 - 0s - 4ms/step - loss: 0.0083\n",
            "Epoch 8/100\n",
            "94/94 - 0s - 3ms/step - loss: 0.0074\n",
            "Epoch 9/100\n",
            "94/94 - 0s - 3ms/step - loss: 0.0065\n",
            "Epoch 10/100\n",
            "94/94 - 0s - 3ms/step - loss: 0.0057\n",
            "Epoch 11/100\n",
            "94/94 - 0s - 2ms/step - loss: 0.0050\n",
            "Epoch 12/100\n",
            "94/94 - 0s - 3ms/step - loss: 0.0043\n",
            "Epoch 13/100\n",
            "94/94 - 0s - 3ms/step - loss: 0.0038\n",
            "Epoch 14/100\n",
            "94/94 - 0s - 3ms/step - loss: 0.0033\n",
            "Epoch 15/100\n",
            "94/94 - 0s - 3ms/step - loss: 0.0029\n",
            "Epoch 16/100\n",
            "94/94 - 0s - 4ms/step - loss: 0.0026\n",
            "Epoch 17/100\n",
            "94/94 - 0s - 2ms/step - loss: 0.0024\n",
            "Epoch 18/100\n",
            "94/94 - 0s - 3ms/step - loss: 0.0023\n",
            "Epoch 19/100\n",
            "94/94 - 0s - 2ms/step - loss: 0.0022\n",
            "Epoch 20/100\n",
            "94/94 - 0s - 2ms/step - loss: 0.0021\n",
            "Epoch 21/100\n",
            "94/94 - 0s - 2ms/step - loss: 0.0021\n",
            "Epoch 22/100\n",
            "94/94 - 0s - 3ms/step - loss: 0.0020\n",
            "Epoch 23/100\n",
            "94/94 - 0s - 3ms/step - loss: 0.0020\n",
            "Epoch 24/100\n",
            "94/94 - 0s - 3ms/step - loss: 0.0020\n",
            "Epoch 25/100\n",
            "94/94 - 0s - 3ms/step - loss: 0.0020\n",
            "Epoch 26/100\n",
            "94/94 - 0s - 2ms/step - loss: 0.0020\n",
            "Epoch 27/100\n",
            "94/94 - 0s - 3ms/step - loss: 0.0020\n",
            "Epoch 28/100\n",
            "94/94 - 0s - 3ms/step - loss: 0.0020\n",
            "Epoch 29/100\n",
            "94/94 - 0s - 2ms/step - loss: 0.0020\n",
            "Epoch 30/100\n",
            "94/94 - 0s - 2ms/step - loss: 0.0020\n",
            "Epoch 31/100\n",
            "94/94 - 0s - 2ms/step - loss: 0.0020\n",
            "Epoch 32/100\n",
            "94/94 - 0s - 3ms/step - loss: 0.0020\n",
            "Epoch 33/100\n",
            "94/94 - 0s - 2ms/step - loss: 0.0020\n",
            "Epoch 34/100\n",
            "94/94 - 0s - 2ms/step - loss: 0.0020\n",
            "Epoch 35/100\n",
            "94/94 - 0s - 3ms/step - loss: 0.0020\n",
            "Epoch 36/100\n",
            "94/94 - 0s - 3ms/step - loss: 0.0020\n",
            "Epoch 37/100\n",
            "94/94 - 0s - 2ms/step - loss: 0.0020\n",
            "Epoch 38/100\n",
            "94/94 - 0s - 2ms/step - loss: 0.0020\n",
            "Epoch 39/100\n",
            "94/94 - 0s - 3ms/step - loss: 0.0020\n",
            "Epoch 40/100\n",
            "94/94 - 0s - 3ms/step - loss: 0.0020\n",
            "Epoch 41/100\n",
            "94/94 - 0s - 3ms/step - loss: 0.0020\n",
            "Epoch 42/100\n",
            "94/94 - 0s - 2ms/step - loss: 0.0020\n",
            "Epoch 43/100\n",
            "94/94 - 0s - 2ms/step - loss: 0.0020\n",
            "Epoch 44/100\n",
            "94/94 - 0s - 3ms/step - loss: 0.0020\n",
            "Epoch 45/100\n",
            "94/94 - 0s - 3ms/step - loss: 0.0020\n",
            "Epoch 46/100\n",
            "94/94 - 0s - 3ms/step - loss: 0.0020\n",
            "Epoch 47/100\n",
            "94/94 - 0s - 2ms/step - loss: 0.0020\n",
            "Epoch 48/100\n",
            "94/94 - 0s - 2ms/step - loss: 0.0020\n",
            "Epoch 49/100\n",
            "94/94 - 0s - 2ms/step - loss: 0.0020\n",
            "Epoch 50/100\n",
            "94/94 - 0s - 3ms/step - loss: 0.0020\n",
            "Epoch 51/100\n",
            "94/94 - 0s - 3ms/step - loss: 0.0020\n",
            "Epoch 52/100\n",
            "94/94 - 0s - 4ms/step - loss: 0.0020\n",
            "Epoch 53/100\n",
            "94/94 - 0s - 3ms/step - loss: 0.0020\n",
            "Epoch 54/100\n",
            "94/94 - 0s - 3ms/step - loss: 0.0020\n",
            "Epoch 55/100\n",
            "94/94 - 0s - 2ms/step - loss: 0.0020\n",
            "Epoch 56/100\n",
            "94/94 - 0s - 2ms/step - loss: 0.0020\n",
            "Epoch 57/100\n",
            "94/94 - 0s - 3ms/step - loss: 0.0020\n",
            "Epoch 58/100\n",
            "94/94 - 0s - 2ms/step - loss: 0.0020\n",
            "Epoch 59/100\n",
            "94/94 - 0s - 2ms/step - loss: 0.0020\n",
            "Epoch 60/100\n",
            "94/94 - 0s - 3ms/step - loss: 0.0020\n",
            "Epoch 61/100\n",
            "94/94 - 0s - 2ms/step - loss: 0.0020\n",
            "Epoch 62/100\n",
            "94/94 - 0s - 2ms/step - loss: 0.0020\n",
            "Epoch 63/100\n",
            "94/94 - 0s - 3ms/step - loss: 0.0020\n",
            "Epoch 64/100\n",
            "94/94 - 0s - 3ms/step - loss: 0.0020\n",
            "Epoch 65/100\n",
            "94/94 - 0s - 3ms/step - loss: 0.0020\n",
            "Epoch 66/100\n",
            "94/94 - 0s - 3ms/step - loss: 0.0020\n",
            "Epoch 67/100\n",
            "94/94 - 0s - 3ms/step - loss: 0.0020\n",
            "Epoch 68/100\n",
            "94/94 - 0s - 2ms/step - loss: 0.0020\n",
            "Epoch 69/100\n",
            "94/94 - 0s - 3ms/step - loss: 0.0020\n",
            "Epoch 70/100\n",
            "94/94 - 0s - 3ms/step - loss: 0.0020\n",
            "Epoch 71/100\n",
            "94/94 - 0s - 3ms/step - loss: 0.0020\n",
            "Epoch 72/100\n",
            "94/94 - 0s - 3ms/step - loss: 0.0020\n",
            "Epoch 73/100\n",
            "94/94 - 0s - 3ms/step - loss: 0.0020\n",
            "Epoch 74/100\n",
            "94/94 - 0s - 2ms/step - loss: 0.0020\n",
            "Epoch 75/100\n",
            "94/94 - 0s - 2ms/step - loss: 0.0020\n",
            "Epoch 76/100\n",
            "94/94 - 0s - 2ms/step - loss: 0.0020\n",
            "Epoch 77/100\n",
            "94/94 - 0s - 2ms/step - loss: 0.0020\n",
            "Epoch 78/100\n",
            "94/94 - 0s - 3ms/step - loss: 0.0020\n",
            "Epoch 79/100\n",
            "94/94 - 0s - 3ms/step - loss: 0.0020\n",
            "Epoch 80/100\n",
            "94/94 - 0s - 3ms/step - loss: 0.0020\n",
            "Epoch 81/100\n",
            "94/94 - 0s - 2ms/step - loss: 0.0020\n",
            "Epoch 82/100\n",
            "94/94 - 0s - 3ms/step - loss: 0.0020\n",
            "Epoch 83/100\n",
            "94/94 - 0s - 3ms/step - loss: 0.0020\n",
            "Epoch 84/100\n",
            "94/94 - 0s - 2ms/step - loss: 0.0020\n",
            "Epoch 85/100\n",
            "94/94 - 0s - 3ms/step - loss: 0.0020\n",
            "Epoch 86/100\n",
            "94/94 - 0s - 3ms/step - loss: 0.0020\n",
            "Epoch 87/100\n",
            "94/94 - 0s - 2ms/step - loss: 0.0020\n",
            "Epoch 88/100\n",
            "94/94 - 0s - 3ms/step - loss: 0.0020\n",
            "Epoch 89/100\n",
            "94/94 - 0s - 3ms/step - loss: 0.0020\n",
            "Epoch 90/100\n",
            "94/94 - 0s - 3ms/step - loss: 0.0020\n",
            "Epoch 91/100\n",
            "94/94 - 0s - 2ms/step - loss: 0.0020\n",
            "Epoch 92/100\n",
            "94/94 - 0s - 3ms/step - loss: 0.0020\n",
            "Epoch 93/100\n",
            "94/94 - 0s - 3ms/step - loss: 0.0020\n",
            "Epoch 94/100\n",
            "94/94 - 0s - 2ms/step - loss: 0.0020\n",
            "Epoch 95/100\n",
            "94/94 - 0s - 2ms/step - loss: 0.0020\n",
            "Epoch 96/100\n",
            "94/94 - 0s - 3ms/step - loss: 0.0020\n",
            "Epoch 97/100\n",
            "94/94 - 0s - 2ms/step - loss: 0.0020\n",
            "Epoch 98/100\n",
            "94/94 - 0s - 2ms/step - loss: 0.0020\n",
            "Epoch 99/100\n",
            "94/94 - 0s - 2ms/step - loss: 0.0020\n",
            "Epoch 100/100\n",
            "94/94 - 0s - 3ms/step - loss: 0.0020\n"
          ]
        },
        {
          "output_type": "execute_result",
          "data": {
            "text/plain": [
              "<keras.src.callbacks.history.History at 0x7f3142c861d0>"
            ]
          },
          "metadata": {},
          "execution_count": 39
        }
      ]
    },
    {
      "cell_type": "markdown",
      "source": [
        "## Make preductuion and evaluatuin matrix."
      ],
      "metadata": {
        "id": "NwP_TpFfL7nA"
      }
    },
    {
      "cell_type": "code",
      "source": [
        "# make predictions\n",
        "trainPredict = model.predict(trainX)\n",
        "testPredict = model.predict(testX)\n",
        "# invert predictions\n",
        "trainPredict = scaler.inverse_transform(trainPredict)\n",
        "trainY = scaler.inverse_transform([trainY])\n",
        "testPredict = scaler.inverse_transform(testPredict)\n",
        "testY = scaler.inverse_transform([testY])\n",
        "# calculate root mean squared error\n",
        "trainScore = np.sqrt(mean_squared_error(trainY[0], trainPredict[:,0]))\n",
        "print('Train Score: %.2f RMSE' % (trainScore))\n",
        "testScore = np.sqrt(mean_squared_error(testY[0], testPredict[:,0]))\n",
        "print('Test Score: %.2f RMSE' % (testScore))\n"
      ],
      "metadata": {
        "colab": {
          "base_uri": "https://localhost:8080/"
        },
        "id": "4lEgbNGULrbv",
        "outputId": "574b1eac-fdaa-47b7-f3cf-58cdef5ed678"
      },
      "execution_count": 40,
      "outputs": [
        {
          "output_type": "stream",
          "name": "stdout",
          "text": [
            "\u001b[1m3/3\u001b[0m \u001b[32m━━━━━━━━━━━━━━━━━━━━\u001b[0m\u001b[37m\u001b[0m \u001b[1m0s\u001b[0m 78ms/step\n",
            "\u001b[1m2/2\u001b[0m \u001b[32m━━━━━━━━━━━━━━━━━━━━\u001b[0m\u001b[37m\u001b[0m \u001b[1m0s\u001b[0m 4ms/step \n",
            "Train Score: 22.68 RMSE\n",
            "Test Score: 52.39 RMSE\n"
          ]
        }
      ]
    },
    {
      "cell_type": "markdown",
      "source": [
        "## Visualize the result"
      ],
      "metadata": {
        "id": "ZpkMef5uMULa"
      }
    },
    {
      "cell_type": "code",
      "source": [
        "# shift train predictions for plotting\n",
        "trainPredictPlot = np.empty_like(dataset)\n",
        "trainPredictPlot[:, :] = np.nan\n",
        "trainPredictPlot[look_back:len(trainPredict)+look_back, :] = trainPredict\n",
        "# shift test predictions for plotting\n",
        "testPredictPlot = np.empty_like(dataset)\n",
        "testPredictPlot[:, :] = np.nan\n",
        "testPredictPlot[len(trainPredict)+(look_back*2)+1:len(dataset)-1, :] = testPredict\n",
        "# plot baseline and predictions\n",
        "plt.plot(scaler.inverse_transform(dataset))\n",
        "plt.plot(trainPredictPlot)\n",
        "plt.plot(testPredictPlot)\n",
        "plt.show()\n"
      ],
      "metadata": {
        "colab": {
          "base_uri": "https://localhost:8080/",
          "height": 430
        },
        "id": "B1T1VicEMXC_",
        "outputId": "7aa1d679-2a47-4fd1-fa32-6bfc39e0abaf"
      },
      "execution_count": 41,
      "outputs": [
        {
          "output_type": "display_data",
          "data": {
            "text/plain": [
              "<Figure size 640x480 with 1 Axes>"
            ],
            "image/png": "[encoded data removed]"
          },
          "metadata": {}
        }
      ]
    },
    {
      "cell_type": "markdown",
      "source": [
        "# **Well done** :)"
      ],
      "metadata": {
        "id": "_80frLg-MENd"
      }
    }
  ]
}